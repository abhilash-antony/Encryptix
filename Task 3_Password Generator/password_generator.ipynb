{
 "cells": [
  {
   "cell_type": "markdown",
   "metadata": {
    "id": "Lx6Xrlr2z_6k"
   },
   "source": [
    "## **Password Generator**"
   ]
  },
  {
   "cell_type": "code",
   "execution_count": 2,
   "metadata": {
    "id": "pIsdNoEn0sMy"
   },
   "outputs": [
    {
     "name": "stdout",
     "output_type": "stream",
     "text": [
      "🔐\u001b[1mPassword Generator\u001b[0m🔐\n",
      "=========================\n"
     ]
    },
    {
     "name": "stdin",
     "output_type": "stream",
     "text": [
      "\n",
      "Enter the desired length of the password:  15\n"
     ]
    },
    {
     "name": "stdout",
     "output_type": "stream",
     "text": [
      "\n",
      "Password generated successfully!\n",
      "TWSklN95gwqOSHx\n",
      "Thank you for using the password generator.\n",
      "==========================================\n"
     ]
    }
   ],
   "source": [
    "# importing necessary libraries\n",
    "import random\n",
    "import string\n",
    "\n",
    "# function to generate a random password\n",
    "def generate_password(length):\n",
    "    characters = string.ascii_letters + string.digits\n",
    "    password = ''.join(random.choice(characters) for _ in range(length))\n",
    "    return password\n",
    "\n",
    "# main function\n",
    "def main():\n",
    "    print('🔐\\033[1m' + 'Password Generator' + '\\033[0m🔐') # bold\n",
    "    print(\"=\" * 25)\n",
    "\n",
    "    while True:\n",
    "        try:\n",
    "            length = int(input(\"\\nEnter the desired length of the password: \"))\n",
    "            if length < 1:\n",
    "                print(\"Length must be a positive integer. Please try again.\")\n",
    "                continue\n",
    "            break\n",
    "        except ValueError:\n",
    "            print(\"Invalid input. Please enter a positive numeric value.\")\n",
    "\n",
    "    password = generate_password(length)\n",
    "    print(\"\\nPassword generated successfully!\")\n",
    "    print(password)\n",
    "    print(\"Thank you for using the password generator.\")\n",
    "    print(\"=\" * 42)\n",
    "\n",
    "if __name__ == \"__main__\":\n",
    "    main()"
   ]
  },
  {
   "cell_type": "code",
   "execution_count": null,
   "metadata": {},
   "outputs": [],
   "source": []
  }
 ],
 "metadata": {
  "colab": {
   "provenance": []
  },
  "kernelspec": {
   "display_name": "Python 3 (ipykernel)",
   "language": "python",
   "name": "python3"
  },
  "language_info": {
   "codemirror_mode": {
    "name": "ipython",
    "version": 3
   },
   "file_extension": ".py",
   "mimetype": "text/x-python",
   "name": "python",
   "nbconvert_exporter": "python",
   "pygments_lexer": "ipython3",
   "version": "3.12.4"
  }
 },
 "nbformat": 4,
 "nbformat_minor": 4
}
