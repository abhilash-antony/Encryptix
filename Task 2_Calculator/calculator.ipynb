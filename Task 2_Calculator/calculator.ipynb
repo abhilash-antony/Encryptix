{
 "cells": [
  {
   "cell_type": "markdown",
   "metadata": {
    "id": "PHyolxNIewsG"
   },
   "source": [
    "## **Calculator**"
   ]
  },
  {
   "cell_type": "code",
   "execution_count": 3,
   "metadata": {},
   "outputs": [],
   "source": [
    "# Operation Functions\n",
    "def add(x, y):\n",
    "    return x + y\n",
    "\n",
    "def subtract(x, y):\n",
    "    return x - y\n",
    "\n",
    "def multiply(x, y):\n",
    "    return x * y\n",
    "\n",
    "def divide(x, y):\n",
    "    try:\n",
    "        return x / y\n",
    "    except ZeroDivisionError:\n",
    "        return \"Error! Division by zero.\""
   ]
  },
  {
   "cell_type": "code",
   "execution_count": null,
   "metadata": {
    "colab": {
     "base_uri": "https://localhost:8080/"
    },
    "id": "-uukehz5fczP",
    "outputId": "0690cd6c-1d18-4c61-928a-a4119f0918fe"
   },
   "outputs": [
    {
     "name": "stdout",
     "output_type": "stream",
     "text": [
      "\u001b[1mSimple Calculator\u001b[0m\n",
      "=================\n",
      "Select operation:\n",
      "1. Add\n",
      "2. Subtract\n",
      "3. Multiply\n",
      "4. Divide\n",
      "5. Exit\n"
     ]
    },
    {
     "name": "stdin",
     "output_type": "stream",
     "text": [
      "Enter your choice of operation: (1 - 5)  1\n",
      "Enter the first number:  10\n",
      "Enter the second number:  20\n"
     ]
    },
    {
     "name": "stdout",
     "output_type": "stream",
     "text": [
      "10.0 + 20.0 = 30.0\n"
     ]
    }
   ],
   "source": [
    "# run the Calculator Application\n",
    "def main():\n",
    "    print('\\033[1m' + 'Simple Calculator' + '\\033[0m') # bold\n",
    "    print(\"=\" * 17)\n",
    "    print(\"Select operation:\")\n",
    "    print(\"1. Add\")\n",
    "    print(\"2. Subtract\")\n",
    "    print(\"3. Multiply\")\n",
    "    print(\"4. Divide\")\n",
    "    print(\"5. Exit\")\n",
    "\n",
    "    while True:\n",
    "        # Take input from the user\n",
    "        choice = input(\"Enter your choice of operation: (1 - 5) \")\n",
    "\n",
    "        if choice in ('1', '2', '3', '4', '5'):\n",
    "            if choice == '5':\n",
    "                print(\"Exiting the calculator\")\n",
    "                break\n",
    "\n",
    "            try:\n",
    "                num1 = float(input(\"Enter the first number: \"))\n",
    "                num2 = float(input(\"Enter the second number: \"))\n",
    "            except ValueError:\n",
    "                print(\"Invalid input. Please enter a numeric value.\")\n",
    "                continue\n",
    "\n",
    "            if choice == '1':\n",
    "                result = add(num1, num2)\n",
    "                print(f\"{num1} + {num2} = {result}\")\n",
    "            elif choice == '2':\n",
    "                result = subtract(num1, num2)\n",
    "                print(f\"{num1} - {num2} = {result}\")\n",
    "            elif choice == '3':\n",
    "                result = multiply(num1, num2)\n",
    "                print(f\"{num1} * {num2} = {result}\")\n",
    "            elif choice == '4':\n",
    "                result = divide(num1, num2)\n",
    "                print(f\"{num1} / {num2} = {result}\")\n",
    "        else:\n",
    "            print(\"Invalid Input\")\n",
    "\n",
    "if __name__ == \"__main__\":\n",
    "    main()"
   ]
  },
  {
   "cell_type": "code",
   "execution_count": null,
   "metadata": {},
   "outputs": [],
   "source": []
  }
 ],
 "metadata": {
  "colab": {
   "provenance": []
  },
  "kernelspec": {
   "display_name": "Python 3 (ipykernel)",
   "language": "python",
   "name": "python3"
  },
  "language_info": {
   "codemirror_mode": {
    "name": "ipython",
    "version": 3
   },
   "file_extension": ".py",
   "mimetype": "text/x-python",
   "name": "python",
   "nbconvert_exporter": "python",
   "pygments_lexer": "ipython3",
   "version": "3.12.4"
  }
 },
 "nbformat": 4,
 "nbformat_minor": 4
}
