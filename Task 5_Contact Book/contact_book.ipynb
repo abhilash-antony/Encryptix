{
 "cells": [
  {
   "cell_type": "markdown",
   "metadata": {
    "id": "GMpHaEBEupny"
   },
   "source": [
    "## **Contact Book**"
   ]
  },
  {
   "cell_type": "code",
   "execution_count": 1,
   "metadata": {
    "id": "z94JI8gvur7L"
   },
   "outputs": [],
   "source": [
    "# function to add new contacts\n",
    "def add_contact(contacts):\n",
    "    name = input(\"Enter name: \")\n",
    "    phone = input(\"Enter phone number: \")\n",
    "    email = input(\"Enter email: \")\n",
    "    address = input(\"Enter address: \")\n",
    "    contacts.append({'name': name, 'phone': phone, 'email': email, 'address': address})\n",
    "    print(\"Contact added successfully!\")\n",
    "\n",
    "# function to list the contacts\n",
    "def view_contacts(contacts):\n",
    "    if not contacts:\n",
    "        print(\"No contacts found.\")\n",
    "    else:\n",
    "        print(\"\\nContact List:\")\n",
    "        print(\"-\" * 30)\n",
    "        for idx, contact in enumerate(contacts, start=1):\n",
    "            print(f\"{idx}. {contact['name']} - {contact['phone']}\")\n",
    "        print(\"-\" * 30)\n",
    "\n",
    "# function to search across the contact book\n",
    "def search_contact(contacts, search_term):\n",
    "    found_contacts = [contact for contact in contacts if search_term.lower() in contact['name'].lower() or search_term in contact['phone']]\n",
    "    if found_contacts:\n",
    "        print(\"\\nSearch Results:\")\n",
    "        print(\"-\" * 30)\n",
    "        for contact in found_contacts:\n",
    "            display_contact(contact)\n",
    "        print(\"-\" * 30)\n",
    "    else:\n",
    "        print(\"No contact found with that name or phone number.\")\n",
    "\n",
    "# function to update existing contacts\n",
    "def update_contact(contacts, search_term):\n",
    "    for contact in contacts:\n",
    "        if search_term.lower() in contact['name'].lower() or search_term in contact['phone']:\n",
    "            print(\"Contact found:\")\n",
    "            display_contact(contact)\n",
    "            contact['name'] = input(\"Enter new name: \")\n",
    "            contact['phone'] = input(\"Enter new phone number: \")\n",
    "            contact['email'] = input(\"Enter new email: \")\n",
    "            contact['address'] = input(\"Enter new address: \")\n",
    "            print(\"Contact updated successfully.\")\n",
    "            return\n",
    "    print(\"No contact found with that name or phone number.\")\n",
    "\n",
    "# function to delete contacts\n",
    "def delete_contact(contacts, search_term):\n",
    "    for contact in contacts:\n",
    "        if search_term.lower() in contact['name'].lower() or search_term in contact['phone']:\n",
    "            contacts.remove(contact)\n",
    "            print(\"Contact deleted successfully.\")\n",
    "            return\n",
    "    print(\"No contact found with that name or phone number.\")\n",
    "\n",
    "# function to display contact details\n",
    "def display_contact(contact):\n",
    "    print(f\"Name: {contact['name']}\")\n",
    "    print(f\"Phone: {contact['phone']}\")\n",
    "    print(f\"Email: {contact['email']}\")\n",
    "    print(f\"Address: {contact['address']}\")\n",
    "    print(\"-\" * 30)"
   ]
  },
  {
   "cell_type": "code",
   "execution_count": null,
   "metadata": {
    "colab": {
     "base_uri": "https://localhost:8080/"
    },
    "id": "LDOj_OkdyeLb",
    "outputId": "2375f5d8-482c-4e90-f9bb-06aef8da4351"
   },
   "outputs": [
    {
     "name": "stdout",
     "output_type": "stream",
     "text": [
      "\n",
      "========================\n",
      "📞\u001b[1m Contact Book Menu \u001b[0m📞\n",
      "========================\n",
      "1. Add Contact\n",
      "2. View Contact List\n",
      "3. Search Contact\n",
      "4. Update Contact\n",
      "5. Delete Contact\n",
      "6. Exit\n",
      "========================\n"
     ]
    },
    {
     "name": "stdin",
     "output_type": "stream",
     "text": [
      "Enter your choice: (1 - 6) 1\n"
     ]
    },
    {
     "name": "stdout",
     "output_type": "stream",
     "text": [
      "\n",
      "Add Contact\n"
     ]
    },
    {
     "name": "stdin",
     "output_type": "stream",
     "text": [
      "Enter name:  Abhi\n",
      "Enter phone number:  9075947545\n",
      "Enter email:  abhi@gmail.com\n",
      "Enter address:  Bangalore\n"
     ]
    },
    {
     "name": "stdout",
     "output_type": "stream",
     "text": [
      "Contact added successfully!\n",
      "\n",
      "========================\n",
      "📞\u001b[1m Contact Book Menu \u001b[0m📞\n",
      "========================\n",
      "1. Add Contact\n",
      "2. View Contact List\n",
      "3. Search Contact\n",
      "4. Update Contact\n",
      "5. Delete Contact\n",
      "6. Exit\n",
      "========================\n"
     ]
    },
    {
     "name": "stdin",
     "output_type": "stream",
     "text": [
      "Enter your choice: (1 - 6) 1\n"
     ]
    },
    {
     "name": "stdout",
     "output_type": "stream",
     "text": [
      "\n",
      "Add Contact\n"
     ]
    },
    {
     "name": "stdin",
     "output_type": "stream",
     "text": [
      "Enter name:  Allen\n",
      "Enter phone number:  9856784523\n",
      "Enter email:  allen@gmail.com\n",
      "Enter address:  Kerala\n"
     ]
    },
    {
     "name": "stdout",
     "output_type": "stream",
     "text": [
      "Contact added successfully!\n",
      "\n",
      "========================\n",
      "📞\u001b[1m Contact Book Menu \u001b[0m📞\n",
      "========================\n",
      "1. Add Contact\n",
      "2. View Contact List\n",
      "3. Search Contact\n",
      "4. Update Contact\n",
      "5. Delete Contact\n",
      "6. Exit\n",
      "========================\n"
     ]
    },
    {
     "name": "stdin",
     "output_type": "stream",
     "text": [
      "Enter your choice: (1 - 6) 1\n"
     ]
    },
    {
     "name": "stdout",
     "output_type": "stream",
     "text": [
      "\n",
      "Add Contact\n"
     ]
    },
    {
     "name": "stdin",
     "output_type": "stream",
     "text": [
      "Enter name:  Surya\n",
      "Enter phone number:  929865895\n",
      "Enter email:  surya@gmail.com\n",
      "Enter address:  Tamilnadu\n"
     ]
    },
    {
     "name": "stdout",
     "output_type": "stream",
     "text": [
      "Contact added successfully!\n",
      "\n",
      "========================\n",
      "📞\u001b[1m Contact Book Menu \u001b[0m📞\n",
      "========================\n",
      "1. Add Contact\n",
      "2. View Contact List\n",
      "3. Search Contact\n",
      "4. Update Contact\n",
      "5. Delete Contact\n",
      "6. Exit\n",
      "========================\n"
     ]
    },
    {
     "name": "stdin",
     "output_type": "stream",
     "text": [
      "Enter your choice: (1 - 6) 1\n"
     ]
    },
    {
     "name": "stdout",
     "output_type": "stream",
     "text": [
      "\n",
      "Add Contact\n"
     ]
    },
    {
     "name": "stdin",
     "output_type": "stream",
     "text": [
      "Enter name:  Gayathri\n",
      "Enter phone number:  9065328945\n",
      "Enter email:  gayathri@gmail.com\n",
      "Enter address:  Bangalore\n"
     ]
    },
    {
     "name": "stdout",
     "output_type": "stream",
     "text": [
      "Contact added successfully!\n",
      "\n",
      "========================\n",
      "📞\u001b[1m Contact Book Menu \u001b[0m📞\n",
      "========================\n",
      "1. Add Contact\n",
      "2. View Contact List\n",
      "3. Search Contact\n",
      "4. Update Contact\n",
      "5. Delete Contact\n",
      "6. Exit\n",
      "========================\n"
     ]
    },
    {
     "name": "stdin",
     "output_type": "stream",
     "text": [
      "Enter your choice: (1 - 6) 2\n"
     ]
    },
    {
     "name": "stdout",
     "output_type": "stream",
     "text": [
      "\n",
      "View Contact List\n",
      "\n",
      "Contact List:\n",
      "------------------------------\n",
      "1. Abhi - 9075947545\n",
      "2. Allen - 9856784523\n",
      "3. Surya - 929865895\n",
      "4. Gayathri - 9065328945\n",
      "------------------------------\n",
      "\n",
      "========================\n",
      "📞\u001b[1m Contact Book Menu \u001b[0m📞\n",
      "========================\n",
      "1. Add Contact\n",
      "2. View Contact List\n",
      "3. Search Contact\n",
      "4. Update Contact\n",
      "5. Delete Contact\n",
      "6. Exit\n",
      "========================\n"
     ]
    },
    {
     "name": "stdin",
     "output_type": "stream",
     "text": [
      "Enter your choice: (1 - 6) 3\n"
     ]
    },
    {
     "name": "stdout",
     "output_type": "stream",
     "text": [
      "\n",
      "Search Contact\n"
     ]
    },
    {
     "name": "stdin",
     "output_type": "stream",
     "text": [
      "Enter name or phone number to search:  Allen\n"
     ]
    },
    {
     "name": "stdout",
     "output_type": "stream",
     "text": [
      "\n",
      "Search Results:\n",
      "------------------------------\n",
      "Name: Allen\n",
      "Phone: 9856784523\n",
      "Email: allen@gmail.com\n",
      "Address: Kerala\n",
      "------------------------------\n",
      "------------------------------\n",
      "\n",
      "========================\n",
      "📞\u001b[1m Contact Book Menu \u001b[0m📞\n",
      "========================\n",
      "1. Add Contact\n",
      "2. View Contact List\n",
      "3. Search Contact\n",
      "4. Update Contact\n",
      "5. Delete Contact\n",
      "6. Exit\n",
      "========================\n"
     ]
    },
    {
     "name": "stdin",
     "output_type": "stream",
     "text": [
      "Enter your choice: (1 - 6) 4\n"
     ]
    },
    {
     "name": "stdout",
     "output_type": "stream",
     "text": [
      "\n",
      "Update Contact\n"
     ]
    },
    {
     "name": "stdin",
     "output_type": "stream",
     "text": [
      "Enter name or phone number to update:  surya\n"
     ]
    },
    {
     "name": "stdout",
     "output_type": "stream",
     "text": [
      "Contact found:\n",
      "Name: Surya\n",
      "Phone: 929865895\n",
      "Email: surya@gmail.com\n",
      "Address: Tamilnadu\n",
      "------------------------------\n"
     ]
    },
    {
     "name": "stdin",
     "output_type": "stream",
     "text": [
      "Enter new name:  Surya\n",
      "Enter new phone number:  8680595785\n",
      "Enter new email:  surya123@gmail.com\n"
     ]
    }
   ],
   "source": [
    "\n",
    "# main function\n",
    "def main():\n",
    "    contacts = []\n",
    "\n",
    "    while True:\n",
    "        print(\"\\n\" + \"=\"*24)\n",
    "        print('📞\\033[1m' + ' Contact Book Menu ' + '\\033[0m📞') #bold\n",
    "        print(\"=\"*24)\n",
    "        print(\"1. Add Contact\")\n",
    "        print(\"2. View Contact List\")\n",
    "        print(\"3. Search Contact\")\n",
    "        print(\"4. Update Contact\")\n",
    "        print(\"5. Delete Contact\")\n",
    "        print(\"6. Exit\")\n",
    "        print(\"=\"*24)\n",
    "\n",
    "        choice = input(\"Enter your choice: (1 - 6)\")\n",
    "\n",
    "        if choice == '1':\n",
    "            print(\"\\nAdd Contact\")\n",
    "            add_contact(contacts)\n",
    "        elif choice == '2':\n",
    "            print(\"\\nView Contact List\")\n",
    "            view_contacts(contacts)\n",
    "        elif choice == '3':\n",
    "            print(\"\\nSearch Contact\")\n",
    "            search_term = input(\"Enter name or phone number to search: \")\n",
    "            search_contact(contacts, search_term)\n",
    "        elif choice == '4':\n",
    "            print(\"\\nUpdate Contact\")\n",
    "            search_term = input(\"Enter name or phone number to update: \")\n",
    "            update_contact(contacts, search_term)\n",
    "        elif choice == '5':\n",
    "            print(\"\\nDelete Contact\")\n",
    "            search_term = input(\"Enter name or phone number to delete: \")\n",
    "            delete_contact(contacts, search_term)\n",
    "        elif choice == '6':\n",
    "            print(\"Exiting the contact book\")\n",
    "            break\n",
    "        else:\n",
    "            print(\"Invalid choice. Please try again.\")\n",
    "\n",
    "if __name__ == \"__main__\":\n",
    "    main()"
   ]
  },
  {
   "cell_type": "code",
   "execution_count": null,
   "metadata": {},
   "outputs": [],
   "source": []
  }
 ],
 "metadata": {
  "colab": {
   "provenance": []
  },
  "kernelspec": {
   "display_name": "Python 3 (ipykernel)",
   "language": "python",
   "name": "python3"
  },
  "language_info": {
   "codemirror_mode": {
    "name": "ipython",
    "version": 3
   },
   "file_extension": ".py",
   "mimetype": "text/x-python",
   "name": "python",
   "nbconvert_exporter": "python",
   "pygments_lexer": "ipython3",
   "version": "3.12.4"
  }
 },
 "nbformat": 4,
 "nbformat_minor": 4
}
