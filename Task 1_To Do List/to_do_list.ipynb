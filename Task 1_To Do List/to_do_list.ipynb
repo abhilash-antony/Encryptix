{
 "cells": [
  {
   "cell_type": "markdown",
   "metadata": {
    "id": "0RShtB4PeT6J"
   },
   "source": [
    "## **To Do Application**"
   ]
  },
  {
   "cell_type": "code",
   "execution_count": 9,
   "metadata": {
    "id": "7hqLmb5IaxsL"
   },
   "outputs": [],
   "source": [
    "# list to store the Tasks\n",
    "tasks = []\n",
    "\n",
    "# function to add a Task\n",
    "def add_task():\n",
    "  task = input(\"Enter new task: \")\n",
    "  tasks.append(task)\n",
    "  print(\"Task added successfully!\")\n",
    "\n",
    "# function to view Tasks\n",
    "def view_tasks():\n",
    "  if tasks:\n",
    "    print(\"\\nTasks:\")\n",
    "    for i, task in enumerate(tasks, start=1):\n",
    "      print(f\"{i}. {task}\")\n",
    "  else:\n",
    "    print(\"No tasks available.\")\n",
    "\n",
    "# function to mark a Task as complete\n",
    "def mark_complete():\n",
    "  view_tasks()\n",
    "  if tasks:\n",
    "    choice = int(input(\"Enter the task number to be marked as complete:\"))\n",
    "    if 1 <= choice <= len(tasks):\n",
    "      print(f\"Task \\\"{tasks[choice - 1]}\\\" marked as complete!\")\n",
    "      del tasks[choice - 1]\n",
    "    else:\n",
    "      print(f\"Task {choice} does not exist.\")"
   ]
  },
  {
   "cell_type": "code",
   "execution_count": 10,
   "metadata": {
    "id": "4yxC01zmdevr",
    "scrolled": true
   },
   "outputs": [
    {
     "name": "stdout",
     "output_type": "stream",
     "text": [
      "\u001b[1mTo Do List\u001b[0m\n",
      "==========\n",
      "Choose an action: (1 - 4)\n",
      "1. Add a task\n",
      "2. View saved tasks\n",
      "3. Mark a task as complete\n",
      "4. Exit the interface\n"
     ]
    },
    {
     "name": "stdin",
     "output_type": "stream",
     "text": [
      "Enter your choice:  1\n",
      "Enter new task:  Buy Groceries\n"
     ]
    },
    {
     "name": "stdout",
     "output_type": "stream",
     "text": [
      "Task added successfully!\n",
      "\u001b[1mTo Do List\u001b[0m\n",
      "==========\n",
      "Choose an action: (1 - 4)\n",
      "1. Add a task\n",
      "2. View saved tasks\n",
      "3. Mark a task as complete\n",
      "4. Exit the interface\n"
     ]
    },
    {
     "name": "stdin",
     "output_type": "stream",
     "text": [
      "Enter your choice:  1\n",
      "Enter new task:  Apply for Loan\n"
     ]
    },
    {
     "name": "stdout",
     "output_type": "stream",
     "text": [
      "Task added successfully!\n",
      "\u001b[1mTo Do List\u001b[0m\n",
      "==========\n",
      "Choose an action: (1 - 4)\n",
      "1. Add a task\n",
      "2. View saved tasks\n",
      "3. Mark a task as complete\n",
      "4. Exit the interface\n"
     ]
    },
    {
     "name": "stdin",
     "output_type": "stream",
     "text": [
      "Enter your choice:  1\n",
      "Enter new task:  Wash Car\n"
     ]
    },
    {
     "name": "stdout",
     "output_type": "stream",
     "text": [
      "Task added successfully!\n",
      "\u001b[1mTo Do List\u001b[0m\n",
      "==========\n",
      "Choose an action: (1 - 4)\n",
      "1. Add a task\n",
      "2. View saved tasks\n",
      "3. Mark a task as complete\n",
      "4. Exit the interface\n"
     ]
    },
    {
     "name": "stdin",
     "output_type": "stream",
     "text": [
      "Enter your choice:  2\n"
     ]
    },
    {
     "name": "stdout",
     "output_type": "stream",
     "text": [
      "\n",
      "Tasks:\n",
      "1. Buy Groceries\n",
      "2. Apply for Loan\n",
      "3. Wash Car\n",
      "\u001b[1mTo Do List\u001b[0m\n",
      "==========\n",
      "Choose an action: (1 - 4)\n",
      "1. Add a task\n",
      "2. View saved tasks\n",
      "3. Mark a task as complete\n",
      "4. Exit the interface\n"
     ]
    },
    {
     "name": "stdin",
     "output_type": "stream",
     "text": [
      "Enter your choice:  3\n"
     ]
    },
    {
     "name": "stdout",
     "output_type": "stream",
     "text": [
      "\n",
      "Tasks:\n",
      "1. Buy Groceries\n",
      "2. Apply for Loan\n",
      "3. Wash Car\n"
     ]
    },
    {
     "name": "stdin",
     "output_type": "stream",
     "text": [
      "Enter the task number to be marked as complete: 2\n"
     ]
    },
    {
     "name": "stdout",
     "output_type": "stream",
     "text": [
      "Task \"Apply for Loan\" marked as complete!\n",
      "\u001b[1mTo Do List\u001b[0m\n",
      "==========\n",
      "Choose an action: (1 - 4)\n",
      "1. Add a task\n",
      "2. View saved tasks\n",
      "3. Mark a task as complete\n",
      "4. Exit the interface\n"
     ]
    },
    {
     "name": "stdin",
     "output_type": "stream",
     "text": [
      "Enter your choice:  2\n"
     ]
    },
    {
     "name": "stdout",
     "output_type": "stream",
     "text": [
      "\n",
      "Tasks:\n",
      "1. Buy Groceries\n",
      "2. Wash Car\n",
      "\u001b[1mTo Do List\u001b[0m\n",
      "==========\n",
      "Choose an action: (1 - 4)\n",
      "1. Add a task\n",
      "2. View saved tasks\n",
      "3. Mark a task as complete\n",
      "4. Exit the interface\n"
     ]
    },
    {
     "name": "stdin",
     "output_type": "stream",
     "text": [
      "Enter your choice:  4\n"
     ]
    }
   ],
   "source": [
    "# run the To Do List Application\n",
    "def main():\n",
    "  while True:\n",
    "    print('\\033[1m' + 'To Do List' + '\\033[0m') # bold\n",
    "    print(\"=\" * 10)\n",
    "    print(\"Choose an action: (1 - 4)\")\n",
    "    print(\"1. Add a task\")\n",
    "    print(\"2. View saved tasks\")\n",
    "    print(\"3. Mark a task as complete\")\n",
    "    print(\"4. Exit the interface\")\n",
    "\n",
    "    choice = input(\"Enter your choice: \")\n",
    "\n",
    "    if choice == '1':\n",
    "      add_task()\n",
    "    elif choice == '2':\n",
    "      view_tasks()\n",
    "    elif choice == '3':\n",
    "      mark_complete()\n",
    "    elif choice == '4':\n",
    "      break\n",
    "    else:\n",
    "      print(\"Invalid choice.\")\n",
    "\n",
    "if __name__ == \"__main__\":\n",
    "  main()"
   ]
  },
  {
   "cell_type": "code",
   "execution_count": null,
   "metadata": {},
   "outputs": [],
   "source": []
  }
 ],
 "metadata": {
  "colab": {
   "provenance": []
  },
  "kernelspec": {
   "display_name": "Python 3 (ipykernel)",
   "language": "python",
   "name": "python3"
  },
  "language_info": {
   "codemirror_mode": {
    "name": "ipython",
    "version": 3
   },
   "file_extension": ".py",
   "mimetype": "text/x-python",
   "name": "python",
   "nbconvert_exporter": "python",
   "pygments_lexer": "ipython3",
   "version": "3.12.4"
  }
 },
 "nbformat": 4,
 "nbformat_minor": 4
}
