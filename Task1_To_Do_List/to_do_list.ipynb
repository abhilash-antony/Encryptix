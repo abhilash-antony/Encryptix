{
  "nbformat": 4,
  "nbformat_minor": 0,
  "metadata": {
    "colab": {
      "provenance": []
    },
    "kernelspec": {
      "name": "python3",
      "display_name": "Python 3"
    },
    "language_info": {
      "name": "python"
    }
  },
  "cells": [
    {
      "cell_type": "markdown",
      "source": [
        "## **To Do Application**"
      ],
      "metadata": {
        "id": "0RShtB4PeT6J"
      }
    },
    {
      "cell_type": "code",
      "source": [
        "# list to store the Tasks\n",
        "tasks = []\n",
        "\n",
        "# function to add a Task\n",
        "def add_task():\n",
        "  task = input(\"Enter new task: \")\n",
        "  tasks.append(task)\n",
        "  print(\"Task added successfully!\")\n",
        "\n",
        "# function to view Tasks\n",
        "def view_tasks():\n",
        "  if tasks:\n",
        "    print(\"\\nTasks:\")\n",
        "    for i, task in enumerate(tasks, start=1):\n",
        "      print(f\"{i}. {task}\")\n",
        "  else:\n",
        "    print(\"No tasks available.\")\n",
        "\n",
        "# function to mark a Task as complete\n",
        "def mark_complete():\n",
        "  view_tasks()\n",
        "  if tasks:\n",
        "    choice = int(input(\"Enter the task number to be marked as complete:\"))\n",
        "    if 1 <= choice <= len(tasks):\n",
        "      print(f\"Task \\\"{tasks[choice - 1]}\\\" marked as complete!\")\n",
        "      del tasks[choice - 1]\n",
        "    else:\n",
        "      print(f\"Task {choice} does not exist.\")"
      ],
      "metadata": {
        "id": "7hqLmb5IaxsL"
      },
      "execution_count": 25,
      "outputs": []
    },
    {
      "cell_type": "code",
      "source": [
        "# run the To Do List Application\n",
        "def main():\n",
        "  while True:\n",
        "    print('\\033[1m' + 'To Do List' + '\\033[0m') # bold\n",
        "    print(\"=\" * 10)\n",
        "    print(\"Choose an action: (1 - 4)\")\n",
        "    print(\"1. Add a task\")\n",
        "    print(\"2. View saved tasks\")\n",
        "    print(\"3. Mark a task as complete\")\n",
        "    print(\"4. Exit the interface\")\n",
        "\n",
        "    choice = input(\"Enter your choice: \")\n",
        "\n",
        "    if choice == '1':\n",
        "      add_task()\n",
        "    elif choice == '2':\n",
        "      view_tasks()\n",
        "    elif choice == '3':\n",
        "      mark_complete()\n",
        "    elif choice == '4':\n",
        "      break\n",
        "    else:\n",
        "      print(\"Invalid choice.\")\n",
        "\n",
        "if __name__ == \"__main__\":\n",
        "  main()"
      ],
      "metadata": {
        "id": "4yxC01zmdevr"
      },
      "execution_count": null,
      "outputs": []
    },
    {
      "cell_type": "markdown",
      "source": [
        "## **Calculator**"
      ],
      "metadata": {
        "id": "PHyolxNIewsG"
      }
    },
    {
      "cell_type": "code",
      "source": [
        "# Operation Functions\n",
        "def add(x, y):\n",
        "    return x + y\n",
        "\n",
        "def subtract(x, y):\n",
        "    return x - y\n",
        "\n",
        "def multiply(x, y):\n",
        "    return x * y\n",
        "\n",
        "def divide(x, y):\n",
        "    try:\n",
        "        return x / y\n",
        "    except ZeroDivisionError:\n",
        "        return \"Error! Division by zero.\""
      ],
      "metadata": {
        "id": "BtmwWFgvuY6O"
      },
      "execution_count": null,
      "outputs": []
    },
    {
      "cell_type": "code",
      "source": [
        "# run the Calculator Application\n",
        "def main():\n",
        "    print('\\033[1m' + 'Simple Calculator' + '\\033[0m') # bold\n",
        "    print(\"=\" * 17)\n",
        "    print(\"Select operation:\")\n",
        "    print(\"1. Add\")\n",
        "    print(\"2. Subtract\")\n",
        "    print(\"3. Multiply\")\n",
        "    print(\"4. Divide\")\n",
        "    print(\"5. Exit\")\n",
        "\n",
        "    while True:\n",
        "        # Take input from the user\n",
        "        choice = input(\"Enter your choice of operation: (1 - 5) \")\n",
        "\n",
        "        if choice in ('1', '2', '3', '4', '5'):\n",
        "            if choice == '5':\n",
        "                print(\"Exiting the calculator. Goodbye!\")\n",
        "                break\n",
        "\n",
        "            try:\n",
        "                num1 = float(input(\"Enter the first number: \"))\n",
        "                num2 = float(input(\"Enter the second number: \"))\n",
        "            except ValueError:\n",
        "                print(\"Invalid input. Please enter a numeric value.\")\n",
        "                continue\n",
        "\n",
        "            if choice == '1':\n",
        "                result = add(num1, num2)\n",
        "                print(f\"{num1} + {num2} = {result}\")\n",
        "            elif choice == '2':\n",
        "                result = subtract(num1, num2)\n",
        "                print(f\"{num1} - {num2} = {result}\")\n",
        "            elif choice == '3':\n",
        "                result = multiply(num1, num2)\n",
        "                print(f\"{num1} * {num2} = {result}\")\n",
        "            elif choice == '4':\n",
        "                result = divide(num1, num2)\n",
        "                print(f\"{num1} / {num2} = {result}\")\n",
        "        else:\n",
        "            print(\"Invalid Input\")\n",
        "\n",
        "if __name__ == \"__main__\":\n",
        "    main()"
      ],
      "metadata": {
        "colab": {
          "base_uri": "https://localhost:8080/"
        },
        "id": "-uukehz5fczP",
        "outputId": "0690cd6c-1d18-4c61-928a-a4119f0918fe"
      },
      "execution_count": 55,
      "outputs": [
        {
          "output_type": "stream",
          "name": "stdout",
          "text": [
            "\u001b[1mSimple Calculator\u001b[0m\n",
            "=================\n",
            "Select operation:\n",
            "1. Add\n",
            "2. Subtract\n",
            "3. Multiply\n",
            "4. Divide\n",
            "5. Exit\n",
            "Enter your choice of operation: (1/2/3/4/5) 5\n",
            "Exiting the calculator. Goodbye!\n"
          ]
        }
      ]
    },
    {
      "cell_type": "markdown",
      "source": [
        "## **Contact Book**"
      ],
      "metadata": {
        "id": "GMpHaEBEupny"
      }
    },
    {
      "cell_type": "code",
      "source": [
        "# function to add new contacts\n",
        "def add_contact(contacts):\n",
        "    name = input(\"Enter name: \")\n",
        "    phone = input(\"Enter phone number: \")\n",
        "    email = input(\"Enter email: \")\n",
        "    address = input(\"Enter address: \")\n",
        "    contacts.append({'name': name, 'phone': phone, 'email': email, 'address': address})\n",
        "    print(\"Contact added successfully!\")\n",
        "\n",
        "# function to list the contacts\n",
        "def view_contacts(contacts):\n",
        "    if not contacts:\n",
        "        print(\"No contacts found.\")\n",
        "    else:\n",
        "        print(\"\\nContact List:\")\n",
        "        print(\"-\" * 30)\n",
        "        for idx, contact in enumerate(contacts, start=1):\n",
        "            print(f\"{idx}. {contact['name']} - {contact['phone']}\")\n",
        "        print(\"-\" * 30)\n",
        "\n",
        "# function to search across the contact book\n",
        "def search_contact(contacts, search_term):\n",
        "    found_contacts = [contact for contact in contacts if search_term.lower() in contact['name'].lower() or search_term in contact['phone']]\n",
        "    if found_contacts:\n",
        "        print(\"\\nSearch Results:\")\n",
        "        print(\"-\" * 30)\n",
        "        for contact in found_contacts:\n",
        "            display_contact(contact)\n",
        "        print(\"-\" * 30)\n",
        "    else:\n",
        "        print(\"No contact found with that name or phone number.\")\n",
        "\n",
        "# function to update existing contacts\n",
        "def update_contact(contacts, search_term):\n",
        "    for contact in contacts:\n",
        "        if search_term.lower() in contact['name'].lower() or search_term in contact['phone']:\n",
        "            print(\"Contact found:\")\n",
        "            display_contact(contact)\n",
        "            contact['name'] = input(\"Enter new name: \")\n",
        "            contact['phone'] = input(\"Enter new phone number: \")\n",
        "            contact['email'] = input(\"Enter new email: \")\n",
        "            contact['address'] = input(\"Enter new address: \")\n",
        "            print(\"Contact updated successfully.\")\n",
        "            return\n",
        "    print(\"No contact found with that name or phone number.\")\n",
        "\n",
        "# function to delete contacts\n",
        "def delete_contact(contacts, search_term):\n",
        "    for contact in contacts:\n",
        "        if search_term.lower() in contact['name'].lower() or search_term in contact['phone']:\n",
        "            contacts.remove(contact)\n",
        "            print(\"Contact deleted successfully.\")\n",
        "            return\n",
        "    print(\"No contact found with that name or phone number.\")\n",
        "\n",
        "# function to display contact details\n",
        "def display_contact(contact):\n",
        "    print(f\"Name: {contact['name']}\")\n",
        "    print(f\"Phone: {contact['phone']}\")\n",
        "    print(f\"Email: {contact['email']}\")\n",
        "    print(f\"Address: {contact['address']}\")\n",
        "    print(\"-\" * 30)"
      ],
      "metadata": {
        "id": "z94JI8gvur7L"
      },
      "execution_count": 44,
      "outputs": []
    },
    {
      "cell_type": "code",
      "source": [
        "\n",
        "# main function\n",
        "def main():\n",
        "    contacts = []\n",
        "\n",
        "    while True:\n",
        "        print(\"\\n\" + \"=\"*24)\n",
        "        print('📞\\033[1m' + ' Contact Book Menu ' + '\\033[0m📞') #bold\n",
        "        print(\"=\"*24)\n",
        "        print(\"1. Add Contact\")\n",
        "        print(\"2. View Contact List\")\n",
        "        print(\"3. Search Contact\")\n",
        "        print(\"4. Update Contact\")\n",
        "        print(\"5. Delete Contact\")\n",
        "        print(\"6. Exit\")\n",
        "        print(\"=\"*24)\n",
        "\n",
        "        choice = input(\"Enter your choice: (1 - 6)\")\n",
        "\n",
        "        if choice == '1':\n",
        "            print(\"\\nAdd Contact\")\n",
        "            add_contact(contacts)\n",
        "        elif choice == '2':\n",
        "            print(\"\\nView Contact List\")\n",
        "            view_contacts(contacts)\n",
        "        elif choice == '3':\n",
        "            print(\"\\nSearch Contact\")\n",
        "            search_term = input(\"Enter name or phone number to search: \")\n",
        "            search_contact(contacts, search_term)\n",
        "        elif choice == '4':\n",
        "            print(\"\\nUpdate Contact\")\n",
        "            search_term = input(\"Enter name or phone number to update: \")\n",
        "            update_contact(contacts, search_term)\n",
        "        elif choice == '5':\n",
        "            print(\"\\nDelete Contact\")\n",
        "            search_term = input(\"Enter name or phone number to delete: \")\n",
        "            delete_contact(contacts, search_term)\n",
        "        elif choice == '6':\n",
        "            print(\"Exiting the contact book\")\n",
        "            break\n",
        "        else:\n",
        "            print(\"Invalid choice. Please try again.\")\n",
        "\n",
        "if __name__ == \"__main__\":\n",
        "    main()"
      ],
      "metadata": {
        "colab": {
          "base_uri": "https://localhost:8080/"
        },
        "id": "LDOj_OkdyeLb",
        "outputId": "2375f5d8-482c-4e90-f9bb-06aef8da4351"
      },
      "execution_count": 58,
      "outputs": [
        {
          "output_type": "stream",
          "name": "stdout",
          "text": [
            "\n",
            "========================\n",
            "📞\u001b[1m Contact Book Menu \u001b[0m📞\n",
            "========================\n",
            "1. Add Contact\n",
            "2. View Contact List\n",
            "3. Search Contact\n",
            "4. Update Contact\n",
            "5. Delete Contact\n",
            "6. Exit\n",
            "========================\n",
            "Enter your choice: 6\n",
            "Exiting the contact book\n"
          ]
        }
      ]
    },
    {
      "cell_type": "markdown",
      "source": [
        "## **Password Generator**"
      ],
      "metadata": {
        "id": "Lx6Xrlr2z_6k"
      }
    },
    {
      "cell_type": "code",
      "source": [
        "# importing necessary libraries\n",
        "import random\n",
        "import string\n",
        "\n",
        "# function to generate a random password\n",
        "def generate_password(length):\n",
        "    characters = string.ascii_letters + string.digits\n",
        "    password = ''.join(random.choice(characters) for _ in range(length))\n",
        "    return password\n",
        "\n",
        "# main function\n",
        "def main():\n",
        "    print('🔐\\033[1m' + 'Password Generator' + '\\033[0m🔐') # bold\n",
        "    print(\"=\" * 25)\n",
        "\n",
        "    while True:\n",
        "        try:\n",
        "            length = int(input(\"\\nEnter the desired length of the password: \"))\n",
        "            if length < 1:\n",
        "                print(\"Length must be a positive integer. Please try again.\")\n",
        "                continue\n",
        "            break\n",
        "        except ValueError:\n",
        "            print(\"Invalid input. Please enter a positive numeric value.\")\n",
        "\n",
        "    password = generate_password(length)\n",
        "    print(\"\\nPassword generated successfully!\")\n",
        "    print(password)\n",
        "    print(\"Thank you for using the password generator.\")\n",
        "    print(\"=\" * 42)\n",
        "\n",
        "if __name__ == \"__main__\":\n",
        "    main()"
      ],
      "metadata": {
        "id": "pIsdNoEn0sMy"
      },
      "execution_count": null,
      "outputs": []
    }
  ]
}